{
 "cells": [
  {
   "cell_type": "code",
   "execution_count": null,
   "metadata": {},
   "outputs": [],
   "source": [
    "import sourcer_engine as eng\n",
    "from datetime import datetime\n",
    "import pandas as pd\n",
    "import vars\n"
   ]
  },
  {
   "cell_type": "code",
   "execution_count": null,
   "metadata": {},
   "outputs": [],
   "source": [
    "d = eng.init_driver([r'C:\\Users\\Anthony Ankrah\\Desktop\\Chrome_Extension'])\n"
   ]
  },
  {
   "cell_type": "code",
   "execution_count": null,
   "metadata": {},
   "outputs": [],
   "source": [
    "eng.show_extension(images=['show_extn.png','pin_me.png'])"
   ]
  },
  {
   "cell_type": "code",
   "execution_count": null,
   "metadata": {},
   "outputs": [],
   "source": [
    "d = eng.sign_in(d, vars.auth_dets)"
   ]
  },
  {
   "cell_type": "code",
   "execution_count": 15,
   "metadata": {},
   "outputs": [
    {
     "data": {
      "text/html": [
       "<div>\n",
       "<style scoped>\n",
       "    .dataframe tbody tr th:only-of-type {\n",
       "        vertical-align: middle;\n",
       "    }\n",
       "\n",
       "    .dataframe tbody tr th {\n",
       "        vertical-align: top;\n",
       "    }\n",
       "\n",
       "    .dataframe thead th {\n",
       "        text-align: right;\n",
       "    }\n",
       "</style>\n",
       "<table border=\"1\" class=\"dataframe\">\n",
       "  <thead>\n",
       "    <tr style=\"text-align: right;\">\n",
       "      <th></th>\n",
       "      <th>url</th>\n",
       "      <th>started_at</th>\n",
       "      <th>completed_at</th>\n",
       "    </tr>\n",
       "  </thead>\n",
       "  <tbody>\n",
       "    <tr>\n",
       "      <th>0</th>\n",
       "      <td>http://linkedin.com/in/rebecca-ryan-2979ab6a</td>\n",
       "      <td>06-Aug-2022 05:41:46</td>\n",
       "      <td>06-Aug-2022 05:42:16</td>\n",
       "    </tr>\n",
       "    <tr>\n",
       "      <th>1</th>\n",
       "      <td>http://linkedin.com/in/david-mcguire-193b4b184</td>\n",
       "      <td>06-Aug-2022 05:42:16</td>\n",
       "      <td>06-Aug-2022 05:42:44</td>\n",
       "    </tr>\n",
       "    <tr>\n",
       "      <th>2</th>\n",
       "      <td>http://linkedin.com/in/shevchenkoalex</td>\n",
       "      <td>06-Aug-2022 05:42:44</td>\n",
       "      <td>06-Aug-2022 05:43:15</td>\n",
       "    </tr>\n",
       "    <tr>\n",
       "      <th>3</th>\n",
       "      <td>http://linkedin.com/in/keilani-collins-32925354</td>\n",
       "      <td>06-Aug-2022 05:43:15</td>\n",
       "      <td>06-Aug-2022 05:43:43</td>\n",
       "    </tr>\n",
       "    <tr>\n",
       "      <th>4</th>\n",
       "      <td>http://linkedin.com/in/matt-steiger-a5a9962</td>\n",
       "      <td>06-Aug-2022 05:43:43</td>\n",
       "      <td>06-Aug-2022 05:44:18</td>\n",
       "    </tr>\n",
       "    <tr>\n",
       "      <th>...</th>\n",
       "      <td>...</td>\n",
       "      <td>...</td>\n",
       "      <td>...</td>\n",
       "    </tr>\n",
       "    <tr>\n",
       "      <th>617</th>\n",
       "      <td>http://linkedin.com/in/monique-walker-5a659956</td>\n",
       "      <td>10-Aug-2022 02:58:07</td>\n",
       "      <td>10-Aug-2022 02:58:33</td>\n",
       "    </tr>\n",
       "    <tr>\n",
       "      <th>618</th>\n",
       "      <td>http://linkedin.com/in/ritajking</td>\n",
       "      <td>10-Aug-2022 02:58:33</td>\n",
       "      <td>10-Aug-2022 02:58:56</td>\n",
       "    </tr>\n",
       "    <tr>\n",
       "      <th>619</th>\n",
       "      <td>http://linkedin.com/in/christy-bak-boychuk-563...</td>\n",
       "      <td>10-Aug-2022 02:58:56</td>\n",
       "      <td>10-Aug-2022 02:59:25</td>\n",
       "    </tr>\n",
       "    <tr>\n",
       "      <th>620</th>\n",
       "      <td>http://linkedin.com/in/milind-pendbhaje-7824a23</td>\n",
       "      <td>10-Aug-2022 02:59:25</td>\n",
       "      <td>10-Aug-2022 02:59:48</td>\n",
       "    </tr>\n",
       "    <tr>\n",
       "      <th>621</th>\n",
       "      <td>http://linkedin.com/in/liza-fryberger</td>\n",
       "      <td>10-Aug-2022 02:59:48</td>\n",
       "      <td>10-Aug-2022 03:00:26</td>\n",
       "    </tr>\n",
       "  </tbody>\n",
       "</table>\n",
       "<p>622 rows × 3 columns</p>\n",
       "</div>"
      ],
      "text/plain": [
       "                                                   url            started_at  \\\n",
       "0         http://linkedin.com/in/rebecca-ryan-2979ab6a  06-Aug-2022 05:41:46   \n",
       "1       http://linkedin.com/in/david-mcguire-193b4b184  06-Aug-2022 05:42:16   \n",
       "2                http://linkedin.com/in/shevchenkoalex  06-Aug-2022 05:42:44   \n",
       "3      http://linkedin.com/in/keilani-collins-32925354  06-Aug-2022 05:43:15   \n",
       "4          http://linkedin.com/in/matt-steiger-a5a9962  06-Aug-2022 05:43:43   \n",
       "..                                                 ...                   ...   \n",
       "617     http://linkedin.com/in/monique-walker-5a659956  10-Aug-2022 02:58:07   \n",
       "618                   http://linkedin.com/in/ritajking  10-Aug-2022 02:58:33   \n",
       "619  http://linkedin.com/in/christy-bak-boychuk-563...  10-Aug-2022 02:58:56   \n",
       "620    http://linkedin.com/in/milind-pendbhaje-7824a23  10-Aug-2022 02:59:25   \n",
       "621              http://linkedin.com/in/liza-fryberger  10-Aug-2022 02:59:48   \n",
       "\n",
       "             completed_at  \n",
       "0    06-Aug-2022 05:42:16  \n",
       "1    06-Aug-2022 05:42:44  \n",
       "2    06-Aug-2022 05:43:15  \n",
       "3    06-Aug-2022 05:43:43  \n",
       "4    06-Aug-2022 05:44:18  \n",
       "..                    ...  \n",
       "617  10-Aug-2022 02:58:33  \n",
       "618  10-Aug-2022 02:58:56  \n",
       "619  10-Aug-2022 02:59:25  \n",
       "620  10-Aug-2022 02:59:48  \n",
       "621  10-Aug-2022 03:00:26  \n",
       "\n",
       "[622 rows x 3 columns]"
      ]
     },
     "execution_count": 15,
     "metadata": {},
     "output_type": "execute_result"
    }
   ],
   "source": [
    "urls = pd.read_csv(\"additional3 pt1 - Sheet1.csv\", header=None)\n",
    "try:\n",
    "    completed = pd.read_csv(\"additional3 pt1-TonyReport.csv\", header=0)\n",
    "except:\n",
    "    completed = pd.DataFrame(columns=['url','started_at','completed_at'])\n",
    "completed\n"
   ]
  },
  {
   "cell_type": "code",
   "execution_count": null,
   "metadata": {},
   "outputs": [],
   "source": [
    "_all =[]\n",
    "for index in range(len(urls)):\n",
    "    if urls.iloc[index, 0] not in completed.url.values:\n",
    "        _ = {'url': urls.iloc[index, 0],'started_at':datetime.now().strftime('%d-%b-%Y %H:%M:%S')}\n",
    "        d = eng.visit_url(d, urls.iloc[index, 0], \"pvs-header__container\")\n",
    "        eng.click_extension('save.png')\n",
    "        eng.pyautogui.click(x=966, y=1, button='left')\n",
    "        d = eng.visit_url(d, f\"{urls.iloc[index,0]}/details/skills/\", \"//h2[@class='t-20 t-bold ph3 pt3 pb2']\")\n",
    "        eng.click_extension('save.png')\n",
    "        eng.pyautogui.click(x=966, y=1, button='left')\n",
    "        _['completed_at'] = datetime.now().strftime('%d-%b-%Y %H:%M:%S')\n",
    "        _all.append(_)\n"
   ]
  },
  {
   "cell_type": "code",
   "execution_count": null,
   "metadata": {},
   "outputs": [],
   "source": [
    "print(len(_all))\n",
    "_all"
   ]
  },
  {
   "cell_type": "code",
   "execution_count": null,
   "metadata": {},
   "outputs": [],
   "source": [
    "completed = pd.concat([completed,pd.DataFrame(_all)])\n",
    "completed"
   ]
  },
  {
   "cell_type": "code",
   "execution_count": null,
   "metadata": {},
   "outputs": [],
   "source": [
    "completed.to_csv(\"additional3 pt1-TonyReport.csv\", index=False)\n"
   ]
  },
  {
   "cell_type": "code",
   "execution_count": null,
   "metadata": {},
   "outputs": [],
   "source": []
  }
 ],
 "metadata": {
  "kernelspec": {
   "display_name": "Python 3.8.3 ('base')",
   "language": "python",
   "name": "python3"
  },
  "language_info": {
   "codemirror_mode": {
    "name": "ipython",
    "version": 3
   },
   "file_extension": ".py",
   "mimetype": "text/x-python",
   "name": "python",
   "nbconvert_exporter": "python",
   "pygments_lexer": "ipython3",
   "version": "3.8.3"
  },
  "orig_nbformat": 4,
  "vscode": {
   "interpreter": {
    "hash": "ad2bdc8ecc057115af97d19610ffacc2b4e99fae6737bb82f5d7fb13d2f2c186"
   }
  }
 },
 "nbformat": 4,
 "nbformat_minor": 2
}
